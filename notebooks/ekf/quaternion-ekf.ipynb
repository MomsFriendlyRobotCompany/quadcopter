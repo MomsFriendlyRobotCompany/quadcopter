{
 "cells": [
  {
   "cell_type": "markdown",
   "id": "11cfe61f-16a8-4b79-a005-fb03d2ff5a82",
   "metadata": {},
   "source": [
    "# Quaternion Extended Kalman Filter\n",
    "\n",
    "| Variable | Description |\n",
    "|---|---|\n",
    "| $a_i$ | Calibrated accelerometer\n",
    "| $\\omega_i$ | Calibrated gyroscope\n",
    "| $m_i$ | Calibrated magnetometer\n",
    "| $b_i$ | Esitmated biases\n",
    "| $x$   | State vector\n",
    "| $\\hat x$ | Estimated state vector\n",
    "| $g$ | gravity vector in navigation (or inertial) space\n",
    "| $\\delta$ | magnetic field declination \n",
    "\n",
    "## Roll and Pitch from Accel\n",
    "\n",
    "$$\n",
    "\\begin{align*}\n",
    "\\text{roll} = \\phi &= \\arctan \\frac {a_y} {a_z} \\\\\n",
    "\\text{pitch} = \\theta = \\arcsin \\frac {a_x} {g} &= \\arcsin \\frac {a_x} {\\sqrt{a^2_x + a^2_y + a^2_z}} \\\\\n",
    "\\end{align*}\n",
    "$$\n",
    "\n",
    "## Tilt Compass\n",
    "\n",
    "$$\n",
    "\\begin{align*}\n",
    "\\phi_{true} &= \\phi_{mag} + \\delta \\\\\n",
    "\\phi_{true} &= \\arctan \\frac {-m_y\\cos \\phi + m_z \\sin \\phi} {m_x \\cos \\theta + m_y \\sin \\phi \\sin \\theta + m_z \\cos \\phi \\sin \\theta} + \\delta \\\\\n",
    "\\end{align*}\n",
    "$$\n",
    "\n",
    "## Quaternion EFK\n",
    "\n",
    "> I think there are errors here ... maybe\n",
    "\n",
    "$$\n",
    "\\begin{align*}\n",
    "x &= \\begin{bmatrix} q_w & q_x & qy & qz & b_x & b_y & b_z \\end{bmatrix}^T \\\\\n",
    "\\omega_{corr} &= \\omega_{meas} - b, \\quad \\dot b = 0 \\\\\n",
    "\\hat x^-_k &= f(\\hat x_{k-1}) \\\\\n",
    "P^-_k &= F_k P_{k-1} F^T_k + Q \\\\\n",
    "F_k &= \\frac {\\partial f(\\hat x^-_k)} {\\partial \\hat x^-_k} \\\\\n",
    "    &= \\begin{bmatrix} \\frac{\\Delta t}{2}q(\\omega_{k,corr}) \\otimes q_k \\\\ 0 \\\\ 0 \\\\ 0 \\end{bmatrix}\\\\\n",
    "\\end{align*}\n",
    "$$\n",
    "\n",
    "- ref: [Designing a Quaternion-Based EKF for Accelerometer, Gyroscope, & Magnetometer Fusion](https://mwrona.com/posts/attitude-ekf/)"
   ]
  },
  {
   "cell_type": "code",
   "execution_count": null,
   "id": "9e02b5d8-9a0a-4690-9397-fcfb898d283a",
   "metadata": {},
   "outputs": [],
   "source": []
  }
 ],
 "metadata": {
  "kernelspec": {
   "display_name": "Python 3 (ipykernel)",
   "language": "python",
   "name": "python3"
  },
  "language_info": {
   "codemirror_mode": {
    "name": "ipython",
    "version": 3
   },
   "file_extension": ".py",
   "mimetype": "text/x-python",
   "name": "python",
   "nbconvert_exporter": "python",
   "pygments_lexer": "ipython3",
   "version": "3.11.6"
  }
 },
 "nbformat": 4,
 "nbformat_minor": 5
}
