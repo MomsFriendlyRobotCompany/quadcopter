{
 "cells": [
  {
   "cell_type": "code",
   "execution_count": 59,
   "id": "4516a8bb-cc45-4543-a915-cdfcd6df76f2",
   "metadata": {},
   "outputs": [],
   "source": [
    "from PIL import Image\n",
    "from PIL.PngImagePlugin import PngInfo\n",
    "import numpy as np\n",
    "from colorama import Fore"
   ]
  },
  {
   "cell_type": "code",
   "execution_count": 64,
   "id": "8f89342e-663d-4c86-bb3c-c383083cfaac",
   "metadata": {},
   "outputs": [
    {
     "name": "stdout",
     "output_type": "stream",
     "text": [
      "\u001b[32mXML:com.adobe.xmp\u001b[39m <x:xmpmeta xmlns:x=\"adobe:ns:meta/\" x:xmptk=\"XMP Core 6.0.0\">\n",
      "   <rdf:RDF xmlns:rdf=\"http://www.w3.org/1999/02/22-rdf-syntax-ns#\">\n",
      "      <rdf:Description rdf:about=\"\"\n",
      "            xmlns:exif=\"http://ns.adobe.com/exif/1.0/\"\n",
      "            xmlns:xmp=\"http://ns.adobe.com/xap/1.0/\"\n",
      "            xmlns:tiff=\"http://ns.adobe.com/tiff/1.0/\"\n",
      "            xmlns:exifEX=\"http://cipa.jp/exif/1.0/\"\n",
      "            xmlns:photoshop=\"http://ns.adobe.com/photoshop/1.0/\">\n",
      "         <exif:CompositeImage>2</exif:CompositeImage>\n",
      "         <exif:WhiteBalance>0</exif:WhiteBalance>\n",
      "         <exif:ExposureMode>0</exif:ExposureMode>\n",
      "         <exif:PixelYDimension>3024</exif:PixelYDimension>\n",
      "         <exif:ISOSpeedRatings>\n",
      "            <rdf:Seq>\n",
      "               <rdf:li>640</rdf:li>\n",
      "            </rdf:Seq>\n",
      "         </exif:ISOSpeedRatings>\n",
      "         <exif:GPSLatitude>35,2.64767N</exif:GPSLatitude>\n",
      "         <exif:GPSLongitude>106,31.372W</exif:GPSLongitude>\n",
      "         <exif:ColorSpace>65535</exif:ColorSpace>\n",
      "         <exif:GPSImgDirection>241397/7903</exif:GPSImgDirection>\n",
      "         <exif:GPSDestBearingRef>T</exif:GPSDestBearingRef>\n",
      "         <exif:ApertureValue>54823/32325</exif:ApertureValue>\n",
      "         <exif:GPSAltitudeRef>0</exif:GPSAltitudeRef>\n",
      "         <exif:GPSDate>2022:10:28</exif:GPSDate>\n",
      "         <exif:SubsecTimeOriginal>107</exif:SubsecTimeOriginal>\n",
      "         <exif:GPSImgDirectionRef>T</exif:GPSImgDirectionRef>\n",
      "         <exif:ExposureTime>1/24</exif:ExposureTime>\n",
      "         <exif:GPSLongitudeRef>W</exif:GPSLongitudeRef>\n",
      "         <exif:BrightnessValue>-121007/85587</exif:BrightnessValue>\n",
      "         <exif:FocalLength>17/4</exif:FocalLength>\n",
      "         <exif:GPSDestBearing>241397/7903</exif:GPSDestBearing>\n",
      "         <exif:SubjectArea>\n",
      "            <rdf:Seq>\n",
      "               <rdf:li>2013</rdf:li>\n",
      "               <rdf:li>1511</rdf:li>\n",
      "               <rdf:li>2217</rdf:li>\n",
      "               <rdf:li>1393</rdf:li>\n",
      "            </rdf:Seq>\n",
      "         </exif:SubjectArea>\n",
      "         <exif:OffsetTime>-06:00</exif:OffsetTime>\n",
      "         <exif:ShutterSpeedValue>49919/10887</exif:ShutterSpeedValue>\n",
      "         <exif:SubsecTimeDigitized>107</exif:SubsecTimeDigitized>\n",
      "         <exif:GPSLatitudeRef>N</exif:GPSLatitudeRef>\n",
      "         <exif:FNumber>9/5</exif:FNumber>\n",
      "         <exif:ExposureProgram>2</exif:ExposureProgram>\n",
      "         <exif:GPSSpeed>0/1</exif:GPSSpeed>\n",
      "         <exif:SensingMethod>2</exif:SensingMethod>\n",
      "         <exif:OffsetTimeDigitized>-06:00</exif:OffsetTimeDigitized>\n",
      "         <exif:MeteringMode>5</exif:MeteringMode>\n",
      "         <exif:GPSAltitude>1086394/659</exif:GPSAltitude>\n",
      "         <exif:SceneType>1</exif:SceneType>\n",
      "         <exif:Flash rdf:parseType=\"Resource\">\n",
      "            <exif:Function>False</exif:Function>\n",
      "            <exif:Fired>False</exif:Fired>\n",
      "            <exif:Return>0</exif:Return>\n",
      "            <exif:Mode>2</exif:Mode>\n",
      "            <exif:RedEyeMode>False</exif:RedEyeMode>\n",
      "         </exif:Flash>\n",
      "         <exif:OffsetTimeOriginal>-06:00</exif:OffsetTimeOriginal>\n",
      "         <exif:GPSHPositioningError>522959/5460</exif:GPSHPositioningError>\n",
      "         <exif:GPSSpeedRef>K</exif:GPSSpeedRef>\n",
      "         <exif:ExposureBiasValue>0/1</exif:ExposureBiasValue>\n",
      "         <exif:PixelXDimension>4032</exif:PixelXDimension>\n",
      "         <exif:FocalLenIn35mmFilm>26</exif:FocalLenIn35mmFilm>\n",
      "         <exif:ExifVersion>0232</exif:ExifVersion>\n",
      "         <xmp:ModifyDate>2022-10-27T18:19:49</xmp:ModifyDate>\n",
      "         <xmp:CreateDate>2022-10-27T18:19:49.107</xmp:CreateDate>\n",
      "         <xmp:CreatorTool>16.0</xmp:CreatorTool>\n",
      "         <tiff:Orientation>1</tiff:Orientation>\n",
      "         <tiff:XResolution>72</tiff:XResolution>\n",
      "         <tiff:HostComputer>iPhone XS</tiff:HostComputer>\n",
      "         <tiff:ResolutionUnit>2</tiff:ResolutionUnit>\n",
      "         <tiff:YResolution>72</tiff:YResolution>\n",
      "         <tiff:Make>Apple</tiff:Make>\n",
      "         <tiff:TileLength>512</tiff:TileLength>\n",
      "         <tiff:TileWidth>512</tiff:TileWidth>\n",
      "         <tiff:Model>iPhone XS</tiff:Model>\n",
      "         <exifEX:PhotographicSensitivity>640</exifEX:PhotographicSensitivity>\n",
      "         <exifEX:LensMake>Apple</exifEX:LensMake>\n",
      "         <exifEX:LensModel>iPhone XS back dual camera 4.25mm f/1.8</exifEX:LensModel>\n",
      "         <exifEX:LensSpecification>\n",
      "            <rdf:Seq>\n",
      "               <rdf:li>17/4</rdf:li>\n",
      "               <rdf:li>6/1</rdf:li>\n",
      "               <rdf:li>9/5</rdf:li>\n",
      "               <rdf:li>12/5</rdf:li>\n",
      "            </rdf:Seq>\n",
      "         </exifEX:LensSpecification>\n",
      "         <photoshop:DateCreated>2022-10-27T18:19:49.107</photoshop:DateCreated>\n",
      "      </rdf:Description>\n",
      "   </rdf:RDF>\n",
      "</x:xmpmeta>\n",
      "\n"
     ]
    }
   ],
   "source": [
    "targetImage = Image.open(\"pics/IMG_0100.png\")\n",
    "for k,v in targetImage.text.items():\n",
    "    if isinstance(v, dict):\n",
    "        for kk,vv in v:\n",
    "            print(Fore.GREEN + kk + Fore.RESET,vv)\n",
    "    else:\n",
    "        print(Fore.GREEN + k + Fore.RESET, v)"
   ]
  },
  {
   "cell_type": "code",
   "execution_count": 40,
   "id": "29977709-fa56-4359-ac46-af333734c56c",
   "metadata": {},
   "outputs": [
    {
     "name": "stdout",
     "output_type": "stream",
     "text": [
      "{'accel_x': '34.2456', 'accel_y': '234.2456', 'accel_z': '1234.2456', 'gyro_x': '-34.2456', 'gyro_y': '-234.2456', 'gyro_z': '-1234.2456'}\n"
     ]
    }
   ],
   "source": [
    "targetImage = Image.open(\"pics/IMG_0100.png\")\n",
    "\n",
    "metadata = PngInfo()\n",
    "\n",
    "metadata.add_text(\"accel_x\", str(34.2456))\n",
    "metadata.add_text(\"accel_y\", str(234.2456))\n",
    "metadata.add_text(\"accel_z\", str(1234.2456))\n",
    "\n",
    "metadata.add_text(\"gyro_x\", str(-34.2456))\n",
    "metadata.add_text(\"gyro_y\", str(-234.2456))\n",
    "metadata.add_text(\"gyro_z\", str(-1234.2456))\n",
    "\n",
    "targetImage.save(\"NewPath.png\", pnginfo=metadata)\n",
    "targetImage = Image.open(\"NewPath.png\")\n",
    "\n",
    "print(targetImage.text)"
   ]
  },
  {
   "cell_type": "code",
   "execution_count": null,
   "id": "95626e3f-aff2-417d-a171-627e622d913a",
   "metadata": {},
   "outputs": [],
   "source": [
    "d = targetImage.text\n",
    "accel = np.array([\n",
    "    float(d['accel_x']),\n",
    "    float(d['accel_y']),\n",
    "    float(d['accel_z'])\n",
    "])\n",
    "\n",
    "print(accel)"
   ]
  },
  {
   "cell_type": "code",
   "execution_count": 46,
   "id": "9c7b1c53-6e02-4f2c-939d-5f1d227a1d38",
   "metadata": {},
   "outputs": [
    {
     "name": "stdout",
     "output_type": "stream",
     "text": [
      "[[0.12340.0.]\n",
      "[0.0.12340.]\n",
      "[0.0.0.1234]] \n",
      " <class 'str'>\n"
     ]
    }
   ],
   "source": [
    "k=np.eye(3)*0.1234\n",
    "# s = np.array2string(k, separator=\",\", suppress_small=True).replace(\" \", \"\")\n",
    "s = np.array2string(k, suppress_small=True).replace(\" \", \"\")\n",
    "# s = np.array2string(k, suppress_small=True).to(\"utf8\")\n",
    "print(s, \"\\n\", type(s))"
   ]
  },
  {
   "cell_type": "code",
   "execution_count": null,
   "id": "2aa38ede-683f-463b-a603-8a100d3d3cb0",
   "metadata": {},
   "outputs": [
    {
     "name": "stderr",
     "output_type": "stream",
     "text": [
      "/var/folders/8m/htkq_jv500b_1yqyk33q6tzc0000gn/T/ipykernel_19772/4042211205.py:1: DeprecationWarning: The binary mode of fromstring is deprecated, as it behaves surprisingly on unicode inputs. Use frombuffer instead\n",
      "  np.fromstring(s)\n"
     ]
    },
    {
     "data": {
      "text/plain": [
       "array([3.05810926e-057, 9.34104722e-076, 1.74450472e-076, 3.25350279e-086,\n",
       "       5.56440746e+141])"
      ]
     },
     "execution_count": 45,
     "metadata": {},
     "output_type": "execute_result"
    }
   ],
   "source": [
    "np.fromstring(s)"
   ]
  },
  {
   "cell_type": "code",
   "execution_count": null,
   "id": "0a398e7c-d404-4688-afdf-62abfaa6b5c4",
   "metadata": {},
   "outputs": [],
   "source": []
  }
 ],
 "metadata": {
  "kernelspec": {
   "display_name": "Python 3 (ipykernel)",
   "language": "python",
   "name": "python3"
  },
  "language_info": {
   "codemirror_mode": {
    "name": "ipython",
    "version": 3
   },
   "file_extension": ".py",
   "mimetype": "text/x-python",
   "name": "python",
   "nbconvert_exporter": "python",
   "pygments_lexer": "ipython3",
   "version": "3.10.8"
  }
 },
 "nbformat": 4,
 "nbformat_minor": 5
}
